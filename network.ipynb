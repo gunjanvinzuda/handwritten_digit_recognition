{
  "nbformat": 4,
  "nbformat_minor": 0,
  "metadata": {
    "colab": {
      "name": "network.ipynb",
      "provenance": [],
      "collapsed_sections": [],
      "mount_file_id": "1CcJ9A_Zi5Ambd-Z1D4U1sffqaZ3BYxcX",
      "authorship_tag": "ABX9TyOEolinOdPIXkeAjt96AQG4",
      "include_colab_link": true
    },
    "kernelspec": {
      "name": "python3",
      "display_name": "Python 3"
    }
  },
  "cells": [
    {
      "cell_type": "markdown",
      "metadata": {
        "id": "view-in-github",
        "colab_type": "text"
      },
      "source": [
        "<a href=\"https://colab.research.google.com/github/gunjanvinzuda/handwritten_digit_recognition/blob/main/network.ipynb\" target=\"_parent\"><img src=\"https://colab.research.google.com/assets/colab-badge.svg\" alt=\"Open In Colab\"/></a>"
      ]
    },
    {
      "cell_type": "code",
      "metadata": {
        "id": "8-tPAYdkbE1v"
      },
      "source": [
        "#import libraries\r\n",
        "from keras.datasets import mnist\r\n",
        "import numpy as np\r\n",
        "import random"
      ],
      "execution_count": 2,
      "outputs": []
    },
    {
      "cell_type": "code",
      "metadata": {
        "id": "wdvZviwibIXh",
        "colab": {
          "base_uri": "https://localhost:8080/"
        },
        "outputId": "f496204b-dd1f-4c08-df5b-594637a65f50"
      },
      "source": [
        "(x_train0,y_train0), (x_test0, y_test0) = mnist.load_data()"
      ],
      "execution_count": 3,
      "outputs": [
        {
          "output_type": "stream",
          "text": [
            "Downloading data from https://storage.googleapis.com/tensorflow/tf-keras-datasets/mnist.npz\n",
            "11493376/11490434 [==============================] - 0s 0us/step\n"
          ],
          "name": "stdout"
        }
      ]
    },
    {
      "cell_type": "code",
      "metadata": {
        "colab": {
          "base_uri": "https://localhost:8080/"
        },
        "id": "7LM-1mIEbgFe",
        "outputId": "e6c57bcd-06de-441d-f977-f2bc9efd0646"
      },
      "source": [
        "#validation dataset containig 10000 examples\r\n",
        "x_val = x_train0[:10000].copy()\r\n",
        "y_val = y_train0[:10000].copy()\r\n",
        "#training dataset containig 50000 examples\r\n",
        "x_train = x_train0[10000:].copy()\r\n",
        "y_train = y_train0[10000:].copy()\r\n",
        "#testing dataset containig 10000 examples\r\n",
        "x_test = x_test0.copy()\r\n",
        "y_test = y_test0.copy()\r\n",
        "\r\n",
        "print(len(x_train))\r\n",
        "print(len(x_val))\r\n",
        "print(len(x_test))"
      ],
      "execution_count": 4,
      "outputs": [
        {
          "output_type": "stream",
          "text": [
            "50000\n",
            "10000\n",
            "10000\n"
          ],
          "name": "stdout"
        }
      ]
    },
    {
      "cell_type": "code",
      "metadata": {
        "id": "aRw0KUb9xYNw"
      },
      "source": [
        "#fucntion for converting digit to vector form\r\n",
        "def vectorized(j):\r\n",
        "  e = np.zeros((10,1))\r\n",
        "  e[j] = 1.0\r\n",
        "  return e"
      ],
      "execution_count": 5,
      "outputs": []
    },
    {
      "cell_type": "code",
      "metadata": {
        "id": "8uPno94fhYIx"
      },
      "source": [
        "x_val = [x.reshape(-1,1)/255 for x in x_val ]\r\n",
        "x_train =  [x.reshape(-1,1)/255 for x in x_train ]\r\n",
        "x_test =  [x.reshape(-1,1)/255 for x in x_test ]\r\n",
        "\r\n",
        "y_train =  [vectorized(y) for y in y_train ]#vectorizing digits for training dataset"
      ],
      "execution_count": 6,
      "outputs": []
    },
    {
      "cell_type": "code",
      "metadata": {
        "id": "lNGv0nVBsUyg"
      },
      "source": [
        "#making (x,y) pair for every dataset\r\n",
        "training_data = [(x,y) for x,y in zip(x_train, y_train)]\r\n",
        "test_data = [(x,y) for x,y in zip(x_test, y_test)]\r\n",
        "val_data = [(x,y) for x,y in zip(x_val, y_val)]"
      ],
      "execution_count": 7,
      "outputs": []
    },
    {
      "cell_type": "code",
      "metadata": {
        "id": "u2vjVynoh3Cr"
      },
      "source": [
        "#nueral network made of 3 layers: 1(input) layer-784 nuerons, 2(hidden) layer-50 nuerons, 3(output) layer - 10 nuerons for 10 digits\r\n",
        "layers = [784,50,10]\r\n",
        "mini_batch_size = 10\r\n",
        "epochs = 100\r\n",
        "eta = 0.5#learning rate\r\n",
        "\r\n",
        "n_train = len(y_train)\r\n",
        "n_val = len(y_val)\r\n",
        "n_test = len(y_test)"
      ],
      "execution_count": 8,
      "outputs": []
    },
    {
      "cell_type": "code",
      "metadata": {
        "id": "Q0uphuefjDNM"
      },
      "source": [
        "weights = [np.random.randn(y,x)/np.sqrt(x) for x,y in zip(layers[:-1],layers[1:])]\r\n",
        "biases = [np.random.randn(x,1) for x in layers[1:]]"
      ],
      "execution_count": 9,
      "outputs": []
    },
    {
      "cell_type": "code",
      "metadata": {
        "id": "WpawuSsEncdQ"
      },
      "source": [
        "#sigmoid function\r\n",
        "def sigmoid(z):\r\n",
        "  return 1.0/(1.0+np.exp(-z))\r\n",
        "#derivative of sigmoid function\r\n",
        "def sigmoid_prime(z):\r\n",
        "  return sigmoid(z)*(1-sigmoid(z))\r\n",
        "\r\n",
        "def feedforward(a):\r\n",
        "  for w,b in zip(weights,biases):\r\n",
        "    a  = sigmoid(np.dot(w,a)+b)\r\n",
        "  return a\r\n",
        "\r\n",
        "def backprop(x,y):\r\n",
        "  nabla_w = [np.zeros(w.shape) for w in weights]\r\n",
        "  nabla_b = [np.zeros(b.shape) for b in biases]\r\n",
        "  a = x\r\n",
        "  activations = [a]\r\n",
        "  Zs = []\r\n",
        "  for w,b in zip(weights,biases):\r\n",
        "    z = np.dot(w,a) + b\r\n",
        "    Zs.append(z)\r\n",
        "    a = sigmoid(z)\r\n",
        "    activations.append(a)\r\n",
        "  \r\n",
        "  delta = (activations[-1]-y)*sigmoid_prime(Zs[-1])\r\n",
        "  nabla_b[-1] = delta\r\n",
        "  nabla_w[-1] = np.dot(delta, activations[-2].transpose())\r\n",
        "\r\n",
        "  for l in range(2,len(layers)):    \r\n",
        "    delta = np.dot(weights[1-l].transpose(), delta)*sigmoid_prime(Zs[-l])\r\n",
        "    nabla_b[-l] = delta\r\n",
        "    nabla_w[-l] = np.dot(delta, activations[-l-1].transpose())\r\n",
        "  return (nabla_w, nabla_b)\r\n",
        "\r\n",
        "def update(mini_batch):\r\n",
        "  global weights, biases\r\n",
        "  nabla_w = [np.zeros(w.shape) for w in weights]\r\n",
        "  nabla_b = [np.zeros(b.shape) for b in biases]\r\n",
        "\r\n",
        "  for x,y in mini_batch:\r\n",
        "    delta_nabla_w, delta_nabla_b = backprop(x,y)\r\n",
        "    nabla_w = [nw+dnw for nw,dnw in zip(nabla_w, delta_nabla_w)]\r\n",
        "    nabla_b = [nb+dnb for nb,dnb in zip(nabla_b, delta_nabla_b)]\r\n",
        "  \r\n",
        "  weights = [w-(eta/len(mini_batch))*nw for w, nw in zip(weights,nabla_w)]\r\n",
        "  biases = [b-(eta/len(mini_batch))*nb for b, nb in zip(biases,nabla_b)]\r\n",
        "\r\n",
        "def evaluate(data):\r\n",
        "  results = [(np.argmax(feedforward(x)), y) for (x,y) in data]    \r\n",
        "  return sum([int(x == y) for (x, y) in results])"
      ],
      "execution_count": 10,
      "outputs": []
    },
    {
      "cell_type": "code",
      "metadata": {
        "colab": {
          "base_uri": "https://localhost:8080/"
        },
        "id": "I_Z-UDF86ds3",
        "outputId": "296d3fc6-50ec-48f5-a494-6adb4b5dab19"
      },
      "source": [
        "#training\r\n",
        "for j in range(1,epochs+1):\r\n",
        "  random.shuffle(training_data)\r\n",
        "  mini_batches = [training_data[k:k+mini_batch_size] for k in range(0, n_train, mini_batch_size)]\r\n",
        "  for mini_batch in mini_batches:\r\n",
        "    update(mini_batch)\r\n",
        "  print(f\"Epoch {j}: {evaluate(val_data)} / {n_test} \")"
      ],
      "execution_count": 11,
      "outputs": [
        {
          "output_type": "stream",
          "text": [
            "Epoch 1: 9258 / 10000 \n",
            "Epoch 2: 9384 / 10000 \n",
            "Epoch 3: 9456 / 10000 \n",
            "Epoch 4: 9527 / 10000 \n",
            "Epoch 5: 9560 / 10000 \n",
            "Epoch 6: 9563 / 10000 \n",
            "Epoch 7: 9600 / 10000 \n",
            "Epoch 8: 9607 / 10000 \n",
            "Epoch 9: 9609 / 10000 \n",
            "Epoch 10: 9635 / 10000 \n",
            "Epoch 11: 9641 / 10000 \n",
            "Epoch 12: 9634 / 10000 \n",
            "Epoch 13: 9656 / 10000 \n",
            "Epoch 14: 9661 / 10000 \n",
            "Epoch 15: 9644 / 10000 \n",
            "Epoch 16: 9667 / 10000 \n",
            "Epoch 17: 9658 / 10000 \n",
            "Epoch 18: 9679 / 10000 \n",
            "Epoch 19: 9678 / 10000 \n",
            "Epoch 20: 9684 / 10000 \n",
            "Epoch 21: 9689 / 10000 \n",
            "Epoch 22: 9686 / 10000 \n",
            "Epoch 23: 9683 / 10000 \n",
            "Epoch 24: 9697 / 10000 \n",
            "Epoch 25: 9690 / 10000 \n",
            "Epoch 26: 9693 / 10000 \n",
            "Epoch 27: 9692 / 10000 \n",
            "Epoch 28: 9694 / 10000 \n",
            "Epoch 29: 9705 / 10000 \n",
            "Epoch 30: 9703 / 10000 \n",
            "Epoch 31: 9701 / 10000 \n",
            "Epoch 32: 9712 / 10000 \n",
            "Epoch 33: 9690 / 10000 \n",
            "Epoch 34: 9690 / 10000 \n",
            "Epoch 35: 9689 / 10000 \n",
            "Epoch 36: 9696 / 10000 \n",
            "Epoch 37: 9698 / 10000 \n",
            "Epoch 38: 9698 / 10000 \n",
            "Epoch 39: 9700 / 10000 \n",
            "Epoch 40: 9708 / 10000 \n",
            "Epoch 41: 9700 / 10000 \n",
            "Epoch 42: 9705 / 10000 \n",
            "Epoch 43: 9701 / 10000 \n",
            "Epoch 44: 9705 / 10000 \n",
            "Epoch 45: 9698 / 10000 \n",
            "Epoch 46: 9688 / 10000 \n",
            "Epoch 47: 9694 / 10000 \n",
            "Epoch 48: 9704 / 10000 \n",
            "Epoch 49: 9706 / 10000 \n",
            "Epoch 50: 9702 / 10000 \n",
            "Epoch 51: 9692 / 10000 \n",
            "Epoch 52: 9698 / 10000 \n",
            "Epoch 53: 9699 / 10000 \n",
            "Epoch 54: 9702 / 10000 \n",
            "Epoch 55: 9698 / 10000 \n",
            "Epoch 56: 9702 / 10000 \n",
            "Epoch 57: 9705 / 10000 \n",
            "Epoch 58: 9707 / 10000 \n",
            "Epoch 59: 9705 / 10000 \n",
            "Epoch 60: 9711 / 10000 \n",
            "Epoch 61: 9700 / 10000 \n",
            "Epoch 62: 9697 / 10000 \n",
            "Epoch 63: 9692 / 10000 \n",
            "Epoch 64: 9702 / 10000 \n",
            "Epoch 65: 9690 / 10000 \n",
            "Epoch 66: 9704 / 10000 \n",
            "Epoch 67: 9698 / 10000 \n",
            "Epoch 68: 9698 / 10000 \n",
            "Epoch 69: 9690 / 10000 \n",
            "Epoch 70: 9703 / 10000 \n",
            "Epoch 71: 9703 / 10000 \n",
            "Epoch 72: 9703 / 10000 \n",
            "Epoch 73: 9698 / 10000 \n",
            "Epoch 74: 9702 / 10000 \n",
            "Epoch 75: 9699 / 10000 \n",
            "Epoch 76: 9699 / 10000 \n",
            "Epoch 77: 9701 / 10000 \n",
            "Epoch 78: 9699 / 10000 \n",
            "Epoch 79: 9693 / 10000 \n",
            "Epoch 80: 9695 / 10000 \n",
            "Epoch 81: 9700 / 10000 \n",
            "Epoch 82: 9703 / 10000 \n",
            "Epoch 83: 9692 / 10000 \n",
            "Epoch 84: 9693 / 10000 \n",
            "Epoch 85: 9701 / 10000 \n",
            "Epoch 86: 9694 / 10000 \n",
            "Epoch 87: 9701 / 10000 \n",
            "Epoch 88: 9702 / 10000 \n",
            "Epoch 89: 9692 / 10000 \n",
            "Epoch 90: 9695 / 10000 \n",
            "Epoch 91: 9699 / 10000 \n",
            "Epoch 92: 9700 / 10000 \n",
            "Epoch 93: 9704 / 10000 \n",
            "Epoch 94: 9699 / 10000 \n",
            "Epoch 95: 9693 / 10000 \n",
            "Epoch 96: 9704 / 10000 \n",
            "Epoch 97: 9705 / 10000 \n",
            "Epoch 98: 9700 / 10000 \n",
            "Epoch 99: 9703 / 10000 \n",
            "Epoch 100: 9699 / 10000 \n"
          ],
          "name": "stdout"
        }
      ]
    },
    {
      "cell_type": "code",
      "metadata": {
        "colab": {
          "base_uri": "https://localhost:8080/"
        },
        "id": "3nYfWsWvDrDo",
        "outputId": "2e8bbe6c-5095-401c-ff43-cb373240ba73"
      },
      "source": [
        "#testing\r\n",
        "print(f\"{evaluate(test_data)}\")"
      ],
      "execution_count": 12,
      "outputs": [
        {
          "output_type": "stream",
          "text": [
            "9696\n"
          ],
          "name": "stdout"
        }
      ]
    },
    {
      "cell_type": "code",
      "metadata": {
        "id": "H-QsWcTl3Jv2"
      },
      "source": [
        "import pickle\r\n",
        "#saving to file\r\n",
        "data = {\"layers\" : layers,\r\n",
        "        \"weights\" :  weights,\r\n",
        "        \"biases\" : biases  \r\n",
        "}\r\n",
        "\r\n",
        "f = open(\"model.txt\",\"wb\")\r\n",
        "pickle.dump(data,f)\r\n",
        "f.close()"
      ],
      "execution_count": 13,
      "outputs": []
    },
    {
      "cell_type": "code",
      "metadata": {
        "id": "PcDv37ftmw4k"
      },
      "source": [
        ""
      ],
      "execution_count": null,
      "outputs": []
    }
  ]
}